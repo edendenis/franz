{
 "cells": [
  {
   "cell_type": "markdown",
   "metadata": {},
   "source": [
    "# Como instalar/configurar/usar o `franz` no `Linux Ubuntu`\n",
    "\n",
    "## Resumo\n",
    "\n",
    "Neste documento estão contidos os principais comandos e configurações para instalar/configurar/usar o `franz` no `Linux Ubuntu`.\n",
    "\n",
    "## _Abstract_\n",
    "\n",
    "_This document contains the main commands and settings to install/configure/use the `franz` on `Linux Ubuntu`._"
   ]
  },
  {
   "cell_type": "markdown",
   "metadata": {},
   "source": [
    "## Descrição [2]\n",
    "\n",
    "### `franz`\n",
    "\n",
    "O `Franz` é uma aplicação de mensagens unificada que integra múltiplos serviços de comunicação em uma única interface. Ele permite a adição e o gerenciamento de várias contas de diferentes plataformas de mensagens, como WhatsApp, Facebook Messenger, Slack, Telegram e outros, facilitando a comunicação em um só lugar. Com uma interface intuitiva e organizada, o `Franz` melhora a produtividade ao centralizar conversas e notificações, permitindo uma experiência mais eficiente e simplificada na gestão de mensagens e comunicação.\n"
   ]
  },
  {
   "cell_type": "markdown",
   "metadata": {},
   "source": [
    "## 1. Configurar/Instalar/Usar o `franz` no `Linux Ubuntu` [1]\n",
    "\n",
    "Para configurar/instalar/usar o `franz` no `Linux Ubuntu`, você pode usar o gerenciador de pacotes apt. Siga os passos abaixo:\n",
    "\n",
    "1. Abra o `Terminal Emulator`. Você pode fazer isso pressionando: `Ctrl + Alt + T`\n"
   ]
  },
  {
   "cell_type": "markdown",
   "metadata": {},
   "source": [
    "2. Certifique-se de que seu sistema esteja limpo e atualizado.\n",
    "\n",
    "    2.1 Limpar o `cache` do gerenciador de pacotes `apt`. Especificamente, ele remove todos os arquivos de pacotes (`.deb`) baixados pelo `apt` e armazenados em `/var/cache/apt/archives/`. Digite o seguinte comando: `sudo apt clean` \n",
    "    \n",
    "    2.2 Remover pacotes `.deb` antigos ou duplicados do cache local. É útil para liberar espaço, pois remove apenas os pacotes que não podem mais ser baixados (ou seja, versões antigas de pacotes que foram atualizados). Digite o seguinte comando: `sudo apt autoclean`\n",
    "\n",
    "    2.3 Remover pacotes que foram automaticamente instalados para satisfazer as dependências de outros pacotes e que não são mais necessários. Digite o seguinte comando: `sudo apt autoremove -y`\n",
    "\n",
    "    2.4 Buscar as atualizações disponíveis para os pacotes que estão instalados em seu sistema. Digite o seguinte comando e pressione `Enter`: `sudo apt update`\n",
    "\n",
    "    2.5 **Corrigir pacotes quebrados**: Isso atualizará a lista de pacotes disponíveis e tentará corrigir pacotes quebrados ou com dependências ausentes: `sudo apt --fix-broken install`\n",
    "\n",
    "    2.6 Limpar o `cache` do gerenciador de pacotes `apt`. Especificamente, ele remove todos os arquivos de pacotes (`.deb`) baixados pelo `apt` e armazenados em `/var/cache/apt/archives/`. Digite o seguinte comando: `sudo apt clean` \n",
    "    \n",
    "    2.7 Para ver a lista de pacotes a serem atualizados, digite o seguinte comando e pressione `Enter`:  `sudo apt list --upgradable`\n",
    "\n",
    "    2.8 Realmente atualizar os pacotes instalados para as suas versões mais recentes, com base na última vez que você executou `sudo apt update`. Digite o seguinte comando e pressione `Enter`: `sudo apt full-upgrade -y`\n",
    "    "
   ]
  },
  {
   "cell_type": "markdown",
   "metadata": {},
   "source": [
    "Para instalar o `Franz` no `Linux Ubuntu` usando o `Terminal Emulator`, você pode seguir os seguintes passos:\n",
    "\n",
    "1. **Baixar o `Franz`**: Primeiro, baixe o `Franz` através do `Terminal Emulator` utilizando o comando `wget`: `wget https://github.com/meetfranz/franz/releases/download/v5.9.2/franz_5.9.2_amd64.deb`\n",
    "\n",
    "2. **Instalar o `Franz`**: Após o _download_, instale o `Franz` usando o `dpkg`: `sudo dpkg -i franz_5.9.2_amd64.deb`\n",
    "\n",
    "3. **Resolver dependências (se necessário)**: Se houver dependências faltantes, você pode corrigi-las com o comando: `sudo apt-get install -f`\n",
    "\n",
    "    Isso vai instalar as dependências necessárias e finalizar a instalação do `Franz`.\n",
    "\n",
    "4. **Executar o `Franz`**: Após a instalação, você pode iniciar o `Franz` diretamente pelo `Terminal Emulator` com o comando: `franz`\n",
    "\n",
    "Ou, se preferir, pode encontrar o `Franz` no menu de aplicativos do seu sistema e executá-lo a partir de lá."
   ]
  },
  {
   "cell_type": "markdown",
   "metadata": {},
   "source": [
    "## 1.1 Código completo para configurar/instalar/usar\n",
    "\n",
    "Para configurar/instalar/usar o `inkscape` no `Linux Ubuntu` sem precisar digitar linha por linha, você pode seguir estas etapas:\n",
    "\n",
    "1. Abra o `Terminal Emulator. Você pode fazer isso pressionando: `Ctrl + Alt + T`\n",
    "\n",
    "2. Digite o seguinte comando e pressione `Enter`:\n",
    "\n",
    "    ```\n",
    "    sudo apt clean\n",
    "    sudo apt autoclean\n",
    "    sudo apt autoremove\n",
    "    sudo apt update -y\n",
    "    sudo apt autoremove\n",
    "    sudo apt autoclean\n",
    "    sudo apt list --upgradable\n",
    "    sudo apt full-upgrade -y\n",
    "    wget https://github.com/meetfranz/franz/releases/download/v5.9.2/franz_5.9.2_amd64.deb\n",
    "    sudo dpkg -i franz_5.9.2_amd64.deb\n",
    "    sudo apt-get install -f\n",
    "    franz\n",
    "    ```"
   ]
  },
  {
   "cell_type": "markdown",
   "metadata": {
    "vscode": {
     "languageId": "plaintext"
    }
   },
   "source": [
    "## Referências\n",
    "\n",
    "[1] OPENAI. ***Instalação do franz ubuntu.*** Disponível em: <https://chatgpt.com/c/e2c99d33-7704-4f5a-ab9e-f164e356e14a> (texto adaptado). ChatGPT. Acessado em: 17/08/2024 14:23.\n",
    "\n",
    "[2] OPENAI. ***Vs code: editor popular.*** Disponível em: <https://chat.openai.com/c/b640a25d-f8e3-4922-8a3b-ed74a2657e42> (texto adaptado). ChatGPT. Acessado em: 17/08/2024 14:23.\n"
   ]
  }
 ],
 "metadata": {
  "kernelspec": {
   "display_name": "Python 3",
   "language": "python",
   "name": "python3"
  },
  "language_info": {
   "codemirror_mode": {
    "name": "ipython",
    "version": 3
   },
   "file_extension": ".py",
   "mimetype": "text/x-python",
   "name": "python",
   "nbconvert_exporter": "python",
   "pygments_lexer": "ipython3",
   "version": "3.8.10"
  },
  "orig_nbformat": 4
 },
 "nbformat": 4,
 "nbformat_minor": 2
}
